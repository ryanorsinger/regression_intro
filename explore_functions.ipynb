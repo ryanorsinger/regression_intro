{
 "cells": [
  {
   "cell_type": "code",
   "execution_count": 23,
   "metadata": {},
   "outputs": [],
   "source": [
    "import pandas as pd\n",
    "import seaborn as sns\n",
    "import numpy as np\n",
    "from pydataset import data\n",
    "import matplotlib.pyplot as plt"
   ]
  },
  {
   "cell_type": "code",
   "execution_count": 16,
   "metadata": {},
   "outputs": [],
   "source": [
    "df = data(\"tips\")"
   ]
  },
  {
   "cell_type": "code",
   "execution_count": 18,
   "metadata": {},
   "outputs": [],
   "source": [
    "# Exercise 1\n",
    "# Write a function, plot_variable_pairs(dataframe) \n",
    "# that plots all of the pairwise relationships along with the regression line for each pair.\n",
    "def plot_variable_pairs(df):\n",
    "    sns.pairplot(df, kind=\"reg\")"
   ]
  },
  {
   "cell_type": "code",
   "execution_count": 19,
   "metadata": {},
   "outputs": [],
   "source": [
    "# Exercise 1 with a little more flair\n",
    "def plot_variable_pairs(df):\n",
    "    \"\"\"Scatterplot and regression line with Kernel Density Estimation kde to estimate the probability density function\"\"\"\n",
    "    g = sns.pairplot(df, kind=\"reg\", corner=True, diag_kind=\"kde\")\n",
    "    g.fig.suptitle(\"Scatterplot with Regression for Continuous Variables\")\n",
    "    plt.show()"
   ]
  },
  {
   "cell_type": "code",
   "execution_count": 30,
   "metadata": {},
   "outputs": [],
   "source": [
    "# Exercise 2\n",
    "# Write a function, months_to_years(tenure_months, df) \n",
    "# that returns your dataframe with a new feature tenure_years, in complete years as a customer.\n",
    "def months_to_years(n_months, df, rounding=False):\n",
    "    \"\"\"\n",
    "    Returns the dataframe with a new column providing years. \n",
    "    Rounding rounds up or down, defaults to higest complete year.\n",
    "    For example, life insurance underwriters round up/down while tenure based-bonus conversations take the highest whole number w/o rounding.\n",
    "    \"\"\"\n",
    "    \n",
    "    if rounding:\n",
    "            df[\"tenure_years\"] = np.round(n_months / 12)\n",
    "            return df\n",
    "    else:\n",
    "        df[\"tenure_years\"] = n_months // 12\n",
    "        return df\n"
   ]
  },
  {
   "cell_type": "code",
   "execution_count": null,
   "metadata": {},
   "outputs": [],
   "source": [
    "\n",
    "# Write a function, plot_categorical_and_continous_vars(categorical_var, continuous_var, df), \n",
    "# that outputs 3 different plots for plotting a categorical variable with a continuous variable, e.g. tenure_years with total_charges. For ideas on effective ways to visualize categorical with continuous: https://datavizcatalogue.com/. \n",
    "# You can then look into seaborn and matplotlib documentation for ways to create plots.\n",
    "\n"
   ]
  }
 ],
 "metadata": {
  "kernelspec": {
   "display_name": "Python 3",
   "language": "python",
   "name": "python3"
  },
  "language_info": {
   "codemirror_mode": {
    "name": "ipython",
    "version": 3
   },
   "file_extension": ".py",
   "mimetype": "text/x-python",
   "name": "python",
   "nbconvert_exporter": "python",
   "pygments_lexer": "ipython3",
   "version": "3.7.3"
  }
 },
 "nbformat": 4,
 "nbformat_minor": 4
}
